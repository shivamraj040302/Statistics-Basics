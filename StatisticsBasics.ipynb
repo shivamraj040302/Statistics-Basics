{
  "nbformat": 4,
  "nbformat_minor": 0,
  "metadata": {
    "colab": {
      "provenance": []
    },
    "kernelspec": {
      "name": "python3",
      "display_name": "Python 3"
    },
    "language_info": {
      "name": "python"
    }
  },
  "cells": [
    {
      "cell_type": "markdown",
      "source": [
        "**Statistics Basics**"
      ],
      "metadata": {
        "id": "Z98FP8-MxbNO"
      }
    },
    {
      "cell_type": "markdown",
      "source": [
        "**1.What is statistics, and why is it important?**\n",
        "- Statistics is the branch of mathematics that deals with collecting, organizing, analyzing, interpreting, and presenting data. It helps us make sense of numerical information, recognize patterns, and make informed decisions based on data.\n",
        "\n",
        "Why Is Statistics Important?\n",
        "\n",
        "**Informed Decision-Making**\n",
        "- Governments use statistics to shape policies (e.g., census data).\n",
        "- Businesses use it for marketing, sales forecasting, and quality control.\n",
        "- Understanding Trends and Patterns\n",
        "- Statistics helps identify trends (like population growth, climate change, or disease outbreaks).\n",
        "\n",
        "**Scientific Research**\n",
        "- In science and medicine, statistical methods are used to validate experiments and clinical trials.\n",
        "- Data-Driven Predictions\n",
        "- Machine learning and AI models rely heavily on statistical foundations to make predictions.\n",
        "\n",
        "**Reducing Uncertainty**\n",
        "- In uncertain situations, statistics helps estimate probabilities (e.g., weather forecasting or insurance).\n",
        "- Everyday Use\n",
        "- We use statistics in everyday decisions, like reading sports stats, interpreting news surveys, or budgeting."
      ],
      "metadata": {
        "id": "nJ6D74bFxki3"
      }
    },
    {
      "cell_type": "markdown",
      "source": [
        "**2.What are the two main types of statistics?**\n",
        "- The two main types of statistics are:\n",
        "\n",
        "**Descriptive Statistics**\n",
        "\n",
        "Definition: Descriptive statistics summarize and organize data so it can be easily understood.\n",
        "\n",
        "Examples:\n",
        "\n",
        "Measures of central tendency: mean, median, mode\n",
        "\n",
        "Measures of dispersion: range, variance, standard deviation\n",
        "\n",
        "Graphs and charts: bar charts, histograms, pie charts\n",
        "\n",
        "**Inferential Statistics**\n",
        "\n",
        "Definition: Inferential statistics use a sample of data to make predictions or generalizations about a larger population.\n",
        "\n",
        "Examples:\n",
        "\n",
        "Hypothesis testing\n",
        "\n",
        "Confidence intervals\n",
        "\n",
        "Regression analysis\n",
        "\n",
        "ANOVA (Analysis of Variance)"
      ],
      "metadata": {
        "id": "ThtMEA_X5a5M"
      }
    },
    {
      "cell_type": "markdown",
      "source": [
        "**3.What are descriptive statistics?**\n",
        "- Descriptive statistics are methods used to summarize, organize, and present data in a clear and understandable way.\n",
        "\n",
        "Key Features:\n",
        "They describe the main features of a dataset.\n",
        "\n",
        "They do not make predictions or draw conclusions beyond the data.\n",
        "\n",
        "Common Types of Descriptive Statistics:\n",
        "Measures of Central Tendency (show the center of the data):\n",
        "\n",
        "Mean: The average of all values\n",
        "\n",
        "Median: The middle value when data is ordered\n",
        "\n",
        "Mode: The most frequently occurring value\n",
        "\n",
        "Measures of Dispersion (show the spread of the data):\n",
        "\n",
        "Range: Difference between highest and lowest values\n",
        "\n",
        "Variance: How much the data varies from the mean\n",
        "\n",
        "Standard Deviation: The average amount by which data values differ from the mean\n",
        "\n",
        "Frequency Distribution:\n",
        "\n",
        "Shows how often each value or range of values occurs\n",
        "\n",
        "Often represented using tables or charts\n",
        "\n",
        "Graphs and Charts:\n",
        "\n",
        "Bar graphs, histograms, pie charts, box plots help visualize data.\n",
        "\n"
      ],
      "metadata": {
        "id": "8QJcw4px5qMm"
      }
    },
    {
      "cell_type": "markdown",
      "source": [
        "**4.What is inferential statistics?**\n",
        "- Inferential statistics is the branch of statistics that allows you to make predictions, draw conclusions, or make decisions about a population based on data collected from a sample.\n",
        "\n",
        "🔍 Key Idea:\n",
        "Since it's usually impossible or impractical to study an entire population, we collect data from a smaller sample and use inferential methods to make generalizations about the whole group.\n",
        "\n",
        "🌟 Main Goals of Inferential Statistics:\n",
        "Estimate population parameters (e.g., average height of all students in a country based on a sample)\n",
        "\n",
        "Test hypotheses (e.g., does a new medicine work better than the old one?)\n",
        "\n",
        "Make predictions (e.g., future sales based on past data)\n",
        "\n",
        "Measure relationships (e.g., correlation or regression analysis)\n"
      ],
      "metadata": {
        "id": "jPp2NqH755WS"
      }
    },
    {
      "cell_type": "markdown",
      "source": [
        "**5.What is sampling in statistics?**\n",
        "- Sampling in statistics is the process of selecting a subset (sample) from a larger group (population) to gather information and make inferences about the whole population.\n",
        "\n",
        "📌 Why Sampling is Important:\n",
        "Studying an entire population is often time-consuming, expensive, or impossible.\n",
        "\n",
        "A well-chosen sample provides reliable results that represent the population.\n",
        "\n",
        "🧠 Key Terms:\n",
        "Population: The entire group you want to study (e.g., all students in India)\n",
        "\n",
        "Sample: A smaller group selected from the population (e.g., 500 students from different schools)\n",
        "\n",
        "Sampling Frame: A list or method used to identify members of the population\n",
        "\n"
      ],
      "metadata": {
        "id": "HSQXuZ_W6Cg1"
      }
    },
    {
      "cell_type": "markdown",
      "source": [
        "**6.What are the different types of sampling methods?**\n",
        "- There are two main categories of sampling methods in statistics: Probability Sampling and Non-Probability Sampling. Each category includes several specific techniques.\n",
        "\n",
        "🔹 1. Probability Sampling\n",
        "Every member of the population has a known and non-zero chance of being selected.\n",
        "\n",
        "✅ Types:\n",
        "Simple Random Sampling\n",
        "\n",
        "Every individual has an equal chance of being selected.\n",
        "\n",
        "📌 Example: Drawing names from a hat.\n",
        "\n",
        "Stratified Sampling\n",
        "\n",
        "The population is divided into subgroups (strata) based on a characteristic, and random samples are taken from each.\n",
        "\n",
        "📌 Example: Sampling students by grade level.\n",
        "\n",
        "Systematic Sampling\n",
        "\n",
        "Select every k-th item from a list, starting at a random point.\n",
        "\n",
        "📌 Example: Every 10th person on a registration list.\n",
        "\n",
        "Cluster Sampling\n",
        "\n",
        "Divide the population into clusters (often based on location), then randomly select entire clusters.\n",
        "\n",
        "📌 Example: Randomly choosing 3 schools and surveying all students in them.\n",
        "\n",
        "🔸 2. Non-Probability Sampling\n",
        "Not every member has a known or equal chance of being selected. Often used for exploratory research or when random sampling isn’t feasible.\n",
        "\n",
        "✅ Types:\n",
        "Convenience Sampling\n",
        "\n",
        "Select individuals who are easiest to reach.\n",
        "\n",
        "📌 Example: Surveying people at a mall.\n",
        "\n",
        "Judgmental or Purposive Sampling\n",
        "\n",
        "The researcher selects subjects based on their knowledge and judgment.\n",
        "\n",
        "📌 Example: Choosing expert doctors for a medical study.\n",
        "\n",
        "Quota Sampling\n",
        "\n",
        "Similar to stratified sampling but non-random; fixed number of individuals from each group is selected.\n",
        "\n",
        "📌 Example: 50 men and 50 women, chosen based on availability.\n",
        "\n",
        "Snowball Sampling\n",
        "\n",
        "Existing participants recruit future subjects.\n",
        "\n",
        "📌 Example: Used to study hidden populations like drug users or rare disease patients.\n",
        "\n"
      ],
      "metadata": {
        "id": "JBosHZRm6MsW"
      }
    },
    {
      "cell_type": "markdown",
      "source": [
        "**7.What is the difference between random and non-random sampling?**\n",
        "- The difference between random and non-random sampling lies in how the sample is selected from the population.\n",
        "\n",
        "🔹 Random Sampling (Probability Sampling)\n",
        "✅ Definition:\n",
        "Every member of the population has a known and equal chance of being selected.\n",
        "\n",
        "✅ Key Features:\n",
        "Unbiased selection\n",
        "\n",
        "Represents the population well\n",
        "\n",
        "Allows statistical inference (you can generalize from sample to population)\n",
        "\n",
        "✅ Examples:\n",
        "Simple random sampling: Lottery-style selection\n",
        "\n",
        "Stratified sampling: Randomly selecting from subgroups\n",
        "\n",
        "Systematic sampling: Every 10th person\n",
        "\n",
        "Cluster sampling: Randomly selecting whole groups\n",
        "\n",
        "✅ Use Cases:\n",
        "Scientific studies\n",
        "\n",
        "Surveys requiring accurate population representation\n",
        "\n",
        "Government and academic research\n",
        "\n",
        "🔸 Non-Random Sampling (Non-Probability Sampling)\n",
        "❌ Definition:\n",
        "Some members of the population have no chance or unknown chance of being selected.\n",
        "\n",
        "❌ Key Features:\n",
        "Biased selection is possible\n",
        "\n",
        "May not represent the entire population\n",
        "\n",
        "Cannot reliably generalize to the whole population\n",
        "\n",
        "❌ Examples:\n",
        "Convenience sampling: Choosing whoever is easiest to reach\n",
        "\n",
        "Judgmental sampling: Based on the researcher’s choice\n",
        "\n",
        "Quota sampling: Non-random selection to meet a specific quota\n",
        "\n",
        "Snowball sampling: Participants refer others\n",
        "\n",
        "❌ Use Cases:\n",
        "Exploratory research\n",
        "\n",
        "Situations where random sampling is not practical\n",
        "\n",
        "Hidden or hard-to-reach populations"
      ],
      "metadata": {
        "id": "MvYs3mzv6Wy7"
      }
    },
    {
      "cell_type": "markdown",
      "source": [
        "**8.Define and give examples of qualitative and quantitative data.**\n",
        "✅ Definition and Examples of Qualitative and Quantitative Data\n",
        "🔹 1. Qualitative Data (Categorical Data)\n",
        "🔸 Definition:\n",
        "Qualitative data describes qualities or characteristics. It cannot be measured with numbers but can be categorized based on traits or labels.\n",
        "\n",
        "🔸 Types:\n",
        "Nominal: Categories with no natural order\n",
        "\n",
        "Ordinal: Categories with a meaningful order\n",
        "\n",
        "🔸 Real-life Uses:\n",
        "Survey responses\n",
        "\n",
        "Interview transcripts\n",
        "\n",
        "Classifying products by brand\n",
        "\n",
        "\n",
        "🔹 2. Quantitative Data (Numerical Data)\n",
        "🔸 Definition:\n",
        "Quantitative data represents numerical values that can be counted or measured. It answers questions like how much, how many, or how often.\n",
        "\n",
        "🔸 Types:\n",
        "Discrete: Countable, whole numbers\n",
        "\n",
        "Continuous: Measurable, can take any value within a range\n",
        "🔸 Real-life Uses:\n",
        "Exam scores\n",
        "\n",
        "Monthly income\n",
        "\n",
        "Speed of a car\n",
        "\n"
      ],
      "metadata": {
        "id": "mUVi0q-b6h-p"
      }
    },
    {
      "cell_type": "markdown",
      "source": [
        "**9.What are the different types of data in statistics?**\n",
        "- In statistics, data refers to the values collected for analysis. These values can be categorized based on their nature and level of measurement.\n",
        "\n",
        "✅ Types of Data in Statistics\n",
        "There are two main broad categories:\n",
        "\n",
        "🔹 1. Qualitative Data (Categorical Data)\n",
        "Describes qualities, labels, or characteristics — not numerical.\n",
        "\n",
        "➤ Types of Qualitative Data:\n",
        "Nominal Data\n",
        "\n",
        "Categories without order\n",
        "\n",
        "📌 Examples: Gender (Male/Female), Eye color (Blue, Brown), Blood type (A, B, AB, O)\n",
        "\n",
        "Ordinal Data\n",
        "\n",
        "Categories with a meaningful order, but no fixed difference between values\n",
        "\n",
        "📌 Examples: Education level (High School < Bachelor < Master), Satisfaction (Low, Medium, High)\n",
        "\n",
        "🔸 2. Quantitative Data (Numerical Data)\n",
        "Data that can be measured and expressed in numbers\n",
        "\n",
        "➤ Types of Quantitative Data:\n",
        "Discrete Data\n",
        "\n",
        "Countable, whole numbers only\n",
        "\n",
        "📌 Examples: Number of students, Number of cars, Goals in a match\n",
        "\n",
        "Continuous Data\n",
        "\n",
        "Can take any value within a range, including decimals\n",
        "\n",
        "📌 Examples: Height (170.2 cm), Weight (65.5 kg), Time (2.75 hours)"
      ],
      "metadata": {
        "id": "YdAm3Uhi6zLd"
      }
    },
    {
      "cell_type": "markdown",
      "source": [
        "**10.Explain nominal, ordinal, interval, and ratio levels of measurement.**\n",
        "- In statistics, data can be classified into four levels of measurement: nominal, ordinal, interval, and ratio. These levels indicate how data can be categorized, ordered, and measured, and they determine which statistical methods are appropriate.\n",
        "\n",
        "🔹 1. Nominal Level\n",
        "📌 Definition:\n",
        "Data are categories with no order or ranking.\n",
        "\n",
        "✅ Key Features:\n",
        "Labels or names\n",
        "\n",
        "No mathematical meaning\n",
        "\n",
        "Cannot be ordered\n",
        "\n",
        "🎯 Examples:\n",
        "Gender: Male, Female\n",
        "\n",
        "Blood type: A, B, AB, O\n",
        "\n",
        "Colors: Red, Blue, Green\n",
        "\n",
        "Nationality: Indian, American\n",
        "\n",
        "🔸 2. Ordinal Level\n",
        "📌 Definition:\n",
        "Data can be ordered or ranked, but differences between values are not meaningful.\n",
        "\n",
        "✅ Key Features:\n",
        "Categories with a logical order\n",
        "\n",
        "Gaps between values are not consistent\n",
        "\n",
        "🎯 Examples:\n",
        "Education level: High School < Bachelor < Master < PhD\n",
        "\n",
        "Movie ratings: 1 star, 2 stars, 3 stars\n",
        "\n",
        "Customer satisfaction: Poor, Fair, Good, Excellent\n",
        "\n",
        "🔹 3. Interval Level\n",
        "📌 Definition:\n",
        "Data are numeric, can be ordered, and the difference between values is meaningful, but no true zero point exists.\n",
        "\n",
        "✅ Key Features:\n",
        "Equal intervals\n",
        "\n",
        "No absolute zero (you can’t say \"twice as much\")\n",
        "\n",
        "🎯 Examples:\n",
        "Temperature in Celsius or Fahrenheit (0°C ≠ no temperature)\n",
        "\n",
        "IQ scores\n",
        "\n",
        "Dates (years like 2000, 2020)\n",
        "\n",
        "🔸 4. Ratio Level\n",
        "📌 Definition:\n",
        "Like interval data, but with a true zero point, so ratios are meaningful.\n",
        "\n",
        "✅ Key Features:\n",
        "Ordered\n",
        "\n",
        "Equal intervals\n",
        "\n",
        "True zero exists\n",
        "\n",
        "You can say \"twice as much\"\n",
        "\n",
        "🎯 Examples:\n",
        "Height, weight, age, income\n",
        "\n",
        "Temperature in Kelvin (0 K = absolute zero)\n",
        "\n",
        "Distance, speed, time\n",
        "\n"
      ],
      "metadata": {
        "id": "ZX6WRjbS7GAE"
      }
    },
    {
      "cell_type": "markdown",
      "source": [
        "**11.What is the measure of central tendency?**\n",
        "\n",
        "- Measure of central tendency refers to statistical values that represent the center or average of a dataset. These measures give a single value that summarizes the entire data set, helping us understand where most data points lie.\n",
        "\n",
        "🔹 The Three Main Measures:\n",
        "1. Mean (Average)\n",
        "Definition: The sum of all values divided by the number of values.\n",
        "\n",
        "Formula:\n",
        "\n",
        "Mean=SUM OF ALL VALUES/NUMBER OF VALUES\n",
        "\n",
        "Example:\n",
        "Data: 5, 10, 15\n",
        "Mean = (5 + 10 + 15) ÷ 3 = 10\n",
        "\n",
        "2. Median (Middle Value)\n",
        "Definition: The middle value when the data is arranged in order.\n",
        "\n",
        "How to Find:\n",
        "\n",
        "If the number of values is odd: pick the middle value\n",
        "\n",
        "If even: average of the two middle values\n",
        "\n",
        "Example:\n",
        "Data: 3, 8, 9, 15, 21 → Median = 9\n",
        "Data: 3, 8, 9, 15 → Median = (8 + 9)/2 = 8.5\n",
        "\n",
        "3. Mode (Most Frequent Value)\n",
        "Definition: The value that occurs most frequently in the data set.\n",
        "\n",
        "Example:\n",
        "Data: 4, 4, 7, 9, 10 → Mode = 4\n",
        "Data: 3, 5, 6, 7 → No mode (all values appear once)"
      ],
      "metadata": {
        "id": "OcMro_8k7Sbl"
      }
    },
    {
      "cell_type": "markdown",
      "source": [
        "**12.Define mean, median, and mode.**\n",
        "🔹 1. Mean (Arithmetic Average)\n",
        "📌 Definition:\n",
        "The mean is the sum of all values in a dataset divided by the total number of values.\n",
        "\n",
        "🧮 Formula:\n",
        "Mean=Mean=SUM OF ALL VALUES/NUMBER OF VALUES\n",
        "\n",
        "✅ Example:\n",
        "Data: 5, 10, 15\n",
        "\n",
        "Mean\n",
        "=\n",
        "5+10+15/3\n",
        "=30/3=10\n",
        "\n",
        "🔸 2. Median (Middle Value)\n",
        "📌 Definition:\n",
        "The median is the middle value in a dataset when the values are arranged in ascending or descending order.\n",
        "\n",
        "If the number of values is odd → take the middle one\n",
        "\n",
        "If the number is even → take the average of the two middle values\n",
        "\n",
        "✅ Example:\n",
        "Data: 4, 8, 10 → Median = 8 (middle value)\n",
        "\n",
        "Data: 3, 6, 8, 10 → Median = (6 + 8)/2 = 7\n",
        "\n",
        "🔹 3. Mode (Most Frequent Value)\n",
        "📌 Definition:\n",
        "The mode is the value that occurs most frequently in the dataset.\n",
        "\n",
        "A dataset can have no mode, one mode (unimodal), two modes (bimodal), or more (multimodal).\n",
        "\n",
        "✅ Example:\n",
        "Data: 2, 4, 4, 6, 9 → Mode = 4\n",
        "\n",
        "Data: 1, 2, 3, 4 → No mode (all values occur once)"
      ],
      "metadata": {
        "id": "nY6aiTp07uyn"
      }
    },
    {
      "cell_type": "markdown",
      "source": [
        "**13.What is the significance of the measure of central tendency?**\n",
        "- Significance of the Measure of Central Tendency\n",
        "Measures of central tendency—mean, median, and mode—are essential in statistics because they help us understand and interpret data by providing a single, central value that represents an entire dataset.\n",
        "\n",
        "🔹 Why Measures of Central Tendency Are Important:\n",
        "1. Summarize Data Simply\n",
        "They condense a large set of values into one representative number, making the data easier to understand and communicate.\n",
        "\n",
        "📌 Example: Saying \"The average score is 75\" summarizes the performance of a whole class.\n",
        "\n",
        "2. Identify the Center of a Distribution\n",
        "They show where most of the data points are concentrated.\n",
        "\n",
        "📌 Example: A median household income helps us know what a \"typical\" family earns.\n",
        "\n",
        "3. Support Decision-Making\n",
        "They are used in business, education, economics, and research to make informed choices.\n",
        "\n",
        "📌 Example: Companies use average sales figures to plan production or marketing.\n",
        "\n",
        "4. Compare Different Datasets\n",
        "Central tendency values help compare different groups or time periods.\n",
        "\n",
        "📌 Example: Comparing average test scores across schools or years."
      ],
      "metadata": {
        "id": "mJp7LiEw8VyX"
      }
    },
    {
      "cell_type": "markdown",
      "source": [
        "**14.What is variance, and how is it calculated?**\n",
        "\n",
        "- Variance is a measure of how spread out or dispersed the values in a dataset are from the mean (average).\n",
        "- A low variance means the data points are close to the mean.\n",
        "- A high variance means the data points are spread out widely.\n",
        "\n",
        "Steps to Calculate Variance:\n",
        "- Find the mean of the dataset.\n",
        "- Subtract the mean from each data value (this gives the deviation).\n",
        "- Square each deviation.\n",
        "- Add up all the squared deviations.\n",
        "- Divide:\n",
        "  - by N for population variance\n",
        "  - by n-1 for sample variance\n",
        "\n"
      ],
      "metadata": {
        "id": "2ZwWUt8Z8gmI"
      }
    },
    {
      "cell_type": "markdown",
      "source": [
        "**15.What is standard deviation, and why is it important?**\n",
        "- What is Standard Deviation?\n",
        "- Standard deviation is a measure of how spread out the values in a dataset are from the mean (average). It tells you how much the data varies or deviates from the mean on average.\n",
        "\n",
        "Why Is Standard Deviation Important?\n",
        "1. Shows Data Spread\n",
        "A small standard deviation: data is close to the mean (less variation)\n",
        "\n",
        "A large standard deviation: data is spread out (more variation)\n",
        "\n",
        "2. Helps Compare Datasets\n",
        "You can compare how consistent two sets of data are.\n",
        "\n",
        "📌 Example: Two classes have the same average test score, but one has a larger standard deviation → students in that class had more varied scores.\n",
        "\n",
        "3. Used in Risk Analysis\n",
        "In finance, a higher standard deviation in stock prices implies higher risk.\n",
        "\n",
        "4. Basis for Many Statistical Techniques\n",
        "Normal distribution (bell curve)\n",
        "\n",
        "Confidence intervals\n",
        "\n",
        "Z-scores\n",
        "\n",
        "5. Gives Meaning to Averages\n",
        "Mean alone doesn’t show variability. Standard deviation adds context.\n",
        "\n",
        "✅ Example:\n",
        "Data: 4, 8, 6\n",
        "\n",
        "Mean = 6\n",
        "\n",
        "Deviations: (4–6)=–2, (8–6)=2, (6–6)=0\n",
        "\n",
        "Squared deviations = 4, 4, 0 → Sum = 8\n",
        "\n",
        "Sample variance = 8 / (3–1) = 4\n",
        "\n",
        "Standard deviation = √4 = 2\n",
        "\n"
      ],
      "metadata": {
        "id": "Ki9hGnnH9OYG"
      }
    },
    {
      "cell_type": "markdown",
      "source": [
        "**16.Define and explain the term range in statistics.**\n",
        "\n",
        "- The range in statistics is the simplest measure of dispersion. It shows the spread or extent of a dataset by calculating the difference between the highest and lowest values.\n",
        "\n",
        "🧮 Formula:\n",
        "Range=Maximum Value−Minimum Value\n",
        "\n",
        "Example:\n",
        "Given data: 5, 12, 8, 20, 7\n",
        "\n",
        "Maximum = 20\n",
        "\n",
        "Minimum = 5\n",
        "\n",
        "Range = 20 - 5 = 15\n",
        "So, the range is 15."
      ],
      "metadata": {
        "id": "Q7SPO3Pe9iSg"
      }
    },
    {
      "cell_type": "markdown",
      "source": [
        "**17.What is the difference between variance and standard deviation?**\n",
        "- Variance and standard deviation are both measures of dispersion — they show how spread out the data values are from the mean. However, they differ in calculation, interpretation, and units.\n",
        "\n",
        "🔹 Example:\n",
        "Data: 5, 7, 9\n",
        "Mean = 7\n",
        "Deviations: -2, 0, 2\n",
        "Squared deviations: 4, 0, 4 → Sum = 8\n",
        "\n",
        "Sample variance = 8/2=4\n",
        "Sample standard deviation = sqroot(4) = 2"
      ],
      "metadata": {
        "id": "8h_MNg_w-Dfq"
      }
    },
    {
      "cell_type": "markdown",
      "source": [
        "**18.What is skewness in a dataset?**\n",
        "- Skewness in a dataset is a statistical measure that describes the asymmetry of the distribution of values.\n",
        "\n",
        "Types of Skewness:\n",
        "- **Positive Skew** (Right-skewed):\n",
        "Tail is longer on the right side.\n",
        "\n",
        "Most values are concentrated on the left.\n",
        "\n",
        "Mean > Median > Mode.\n",
        "\n",
        "Example: Income distribution in many countries.\n",
        "\n",
        "- **Negative Skew** (Left-skewed):\n",
        "\n",
        "Tail is longer on the left side.\n",
        "\n",
        "Most values are concentrated on the right.\n",
        "\n",
        "Mean < Median < Mode.\n",
        "\n",
        "Example: Age at retirement.\n",
        "\n",
        "- **Zero Skew** (Symmetrical):\n",
        "\n",
        "Data is evenly distributed.\n",
        "\n",
        "Mean ≈ Median ≈ Mode.\n",
        "\n",
        "Example: Ideal bell curve (normal distribution)."
      ],
      "metadata": {
        "id": "4i7kLzvz_B1a"
      }
    },
    {
      "cell_type": "markdown",
      "source": [
        "**19.What does it mean if a dataset is positively or negatively skewed?**\n",
        "- When a dataset is positively or negatively skewed, it refers to the direction and extent of the tail of the distribution. Here's what it means in detail:\n",
        "\n",
        "📈 Positively Skewed (Right-Skewed)\n",
        "Tail Direction: Longer tail on the right side.\n",
        "\n",
        "Value Distribution: Most values are lower, concentrated on the left.\n",
        "\n",
        "Effect on Mean, Median, Mode:\n",
        "\n",
        "Mean\n",
        ">\n",
        "Median\n",
        ">\n",
        "Mode\n",
        "Mean>Median>Mode\n",
        "Implication:\n",
        "\n",
        "The mean is pulled to the right due to a few extremely high values.\n",
        "\n",
        "Common in datasets like income, housing prices, or test scores where outliers inflate the average.\n",
        "\n",
        "Example:\n",
        "If most people earn between ₹20,000 and ₹40,000, but a few earn ₹5 lakhs or more, the distribution becomes right-skewed.\n",
        "\n",
        "📉 Negatively Skewed (Left-Skewed)\n",
        "Tail Direction: Longer tail on the left side.\n",
        "\n",
        "Value Distribution: Most values are higher, concentrated on the right.\n",
        "\n",
        "Effect on Mean, Median, Mode:\n",
        "\n",
        "Mean\n",
        "<\n",
        "Median\n",
        "<\n",
        "Mode\n",
        "Mean<Median<Mode"
      ],
      "metadata": {
        "id": "eVdVPDGMAmor"
      }
    },
    {
      "cell_type": "markdown",
      "source": [
        "**20.Define and explain kurtosis.**\n",
        "\n",
        "- Kurtosis is a statistical measure that describes the \"tailedness\" or peakedness of a data distribution — that is, how heavy or light the tails of the distribution are compared to a normal distribution.\n",
        "\n",
        "What Kurtosis Tells You:\n",
        "- It indicates the likelihood of extreme values (outliers) in your dataset.\n",
        "- It is based on the fourth central moment of the data.\n",
        "- While skewness tells us about asymmetry, kurtosis tells us about the extremity of outliers and shape of the peak."
      ],
      "metadata": {
        "id": "cG_Wvzr_A-_e"
      }
    },
    {
      "cell_type": "markdown",
      "source": [
        "**21.What is the purpose of covariance.**\n",
        "\n",
        "- Covariance is a statistical measure used to determine the direction of the linear relationship between two variables.\n",
        "- Main Purpose:\n",
        "  - To identify how two variables change together — whether they tend to increase or decrease together, or if one increases while the other decreases.\n",
        "\n",
        "\n",
        "Why Covariance is Important:\n",
        "Understanding Relationships:\n",
        "\n",
        "Helps assess how two variables behave with respect to each other (e.g., income and spending).\n",
        "\n",
        "Foundation of Correlation:\n",
        "\n",
        "Correlation is the standardized version of covariance. While covariance gives direction, correlation also tells strength.\n",
        "\n",
        "Portfolio Theory in Finance:\n",
        "\n",
        "Used to assess the risk/return profile of a combination of assets — key in diversification.\n",
        "\n",
        "Machine Learning & Data Analysis:\n",
        "\n",
        "Covariance matrices help in dimensionality reduction techniques like PCA (Principal Component Analysis).\n",
        "\n"
      ],
      "metadata": {
        "id": "mGRZXWq1BNiN"
      }
    },
    {
      "cell_type": "markdown",
      "source": [
        "**22.What does correlation measure in statistics?**\n",
        "- Correlation measures the strength and direction of a linear relationship between two numerical variables.\n",
        "\n",
        "✅ Key Points:\n",
        "- It tells us how strongly two variables move together, and in which direction.\n",
        "- It's a standardized form of covariance — easier to interpret.\n",
        "\n",
        "\n",
        "Purpose of Correlation:\n",
        "Detect Relationships:\n",
        "\n",
        "E.g., Is there a connection between study time and exam scores?\n",
        "\n",
        "Predictive Modeling:\n",
        "\n",
        "Highly correlated variables help in making better predictions.\n",
        "\n",
        "Multivariate Analysis:\n",
        "\n",
        "Helps choose features for regression or machine learning models.\n",
        "\n",
        "Financial Analysis:\n",
        "\n",
        "Used to evaluate asset diversification (e.g., stocks with low or negative correlation)."
      ],
      "metadata": {
        "id": "lbawsqQdBfM5"
      }
    },
    {
      "cell_type": "markdown",
      "source": [
        "**23.What is the difference between covariance and correlation?**\n",
        "- In statistics, covariance and correlation are two important measures used to determine the relationship between two quantitative variables. While both provide insights into how variables change with respect to one another, they differ in scale, interpretation, and usage.\n",
        "\n",
        "- Both covariance and correlation are essential tools in statistics and data analysis. Covariance is helpful for understanding the direction of change, especially in finance and risk management, while correlation provides a more interpretable and comparable measure of the strength of that relationship.\n",
        "\n"
      ],
      "metadata": {
        "id": "ZW-Yhs_bBy_C"
      }
    },
    {
      "cell_type": "markdown",
      "source": [
        "**24.What are some real-world applications of statistics?**\n",
        "\n",
        "1. Business and Economics\n",
        "Market Research: Analyzing consumer behavior, preferences, and trends using surveys and data.\n",
        "\n",
        "Sales Forecasting: Predicting future sales based on historical data.\n",
        "\n",
        "Quality Control: Using statistical tools like control charts to maintain product quality.\n",
        "\n",
        "Risk Analysis: Estimating financial risks and insurance claims through probability models.\n",
        "\n",
        "🏥 2. Healthcare and Medicine\n",
        "Clinical Trials: Testing the effectiveness and safety of new drugs using statistical sampling and hypothesis testing.\n",
        "\n",
        "Epidemiology: Studying the spread of diseases and predicting outbreaks (e.g., COVID-19 modeling).\n",
        "\n",
        "Medical Diagnosis: Using statistics in AI algorithms to analyze symptoms and diagnose conditions.\n",
        "\n",
        "📚 3. Education\n",
        "Test Scoring and Evaluation: Standardized testing analysis (e.g., mean scores, grading curves).\n",
        "\n",
        "Student Performance: Analyzing learning outcomes and intervention effectiveness.\n",
        "\n",
        "Admission Processes: Using statistical models for selection and prediction of academic success.\n",
        "\n",
        "🌦️ 4. Environmental Science\n",
        "Weather Forecasting: Predicting temperatures, rainfall, and storms using time series and probability models.\n",
        "\n",
        "Pollution Studies: Analyzing air/water quality data to assess environmental health.\n",
        "\n",
        "Climate Change Research: Long-term data analysis to understand global warming patterns.\n",
        "\n",
        "📈 5. Government and Public Policy\n",
        "Census and Demographics: Collecting population data to inform resource allocation.\n",
        "\n",
        "Unemployment and Inflation: Analyzing labor and economic data for decision-making.\n",
        "\n",
        "Crime Statistics: Identifying crime hotspots and planning policing efforts.\n",
        "\n",
        "🏦 6. Finance and Banking\n",
        "Stock Market Analysis: Predicting price trends using regression and time series models.\n",
        "\n",
        "Credit Scoring: Evaluating loan eligibility based on historical financial data.\n",
        "\n",
        "Investment Planning: Portfolio optimization using statistical risk-return analysis.\n",
        "\n",
        "🧪 7. Scientific Research\n",
        "Data Analysis: Interpreting experimental results with statistical methods.\n",
        "\n",
        "Hypothesis Testing: Validating scientific theories and claims.\n",
        "\n",
        "Design of Experiments: Planning controlled experiments to minimize bias and error.\n",
        "\n",
        "🤖 8. Technology and Artificial Intelligence\n",
        "Machine Learning: Building predictive models based on statistical patterns.\n",
        "\n",
        "Natural Language Processing: Using probability models to understand and generate human language.\n",
        "\n",
        "Recommendation Systems: Suggesting content (e.g., YouTube, Netflix) based on user behavior statistics.\n",
        "\n",
        "🚘 9. Transportation and Logistics\n",
        "Traffic Flow Analysis: Optimizing routes and reducing congestion.\n",
        "\n",
        "Fleet Management: Using data to plan deliveries, track vehicles, and reduce costs.\n",
        "\n",
        "Accident Prediction: Analyzing crash data to improve road safety.\n",
        "\n",
        "⚽ 10. Sports and Performance Analysis\n",
        "Player Statistics: Evaluating player performance (e.g., batting averages, win rates).\n",
        "\n",
        "Team Strategy: Using data to plan game tactics.\n",
        "\n",
        "Injury Prediction: Tracking physical data to prevent athlete injuries.\n"
      ],
      "metadata": {
        "id": "UyBnk-z4CXuC"
      }
    },
    {
      "cell_type": "markdown",
      "source": [
        "**Practical**"
      ],
      "metadata": {
        "id": "Fq3XkuHLC2_p"
      }
    },
    {
      "cell_type": "markdown",
      "source": [
        "**1.How do you calculate the mean, median, and mode of a dataset?**\n",
        "\n",
        "1. Mean (Average)\n",
        "👉 Definition:\n",
        "The mean is the sum of all values divided by the number of values.\n",
        "\n",
        "👉 Formula:\n",
        "\n",
        "n = number of values\n",
        "\n",
        "👉 Example:\n",
        "Dataset: [4, 7, 10, 6, 3]\n",
        "\n",
        "Mean=(4+7+10+6+3)/5=30/5=6\n",
        "\n",
        "2. Median\n",
        "👉 Definition:\n",
        "The median is the middle value when the data is arranged in ascending order. If there’s an even number of values, it's the average of the two middle numbers.\n",
        "\n",
        "👉 Steps:\n",
        "Arrange the data in order.\n",
        "\n",
        "Find the middle value.\n",
        "\n",
        "👉 Example 1 (Odd count):\n",
        "Dataset: [3, 4, 6, 7, 10]\n",
        "Median = 6 (the 3rd value)\n",
        "\n",
        "👉 Example 2 (Even count):\n",
        "Dataset: [3, 4, 6, 7]\n",
        "Median = (4+6)/2=5\n",
        "\n",
        "📘 3. Mode\n",
        "👉 Definition:\n",
        "The mode is the value that occurs most frequently in the dataset.\n",
        "\n",
        "👉 Examples:\n",
        "Dataset: [4, 6, 6, 7, 8, 6, 9]\n",
        "Mode = 6 (it appears 3 times)\n",
        "\n",
        "Dataset: [1, 2, 3, 4]\n",
        "Mode = None (no repetition)\n",
        "\n",
        "Dataset: [2, 2, 3, 3, 4]\n",
        "Mode = 2 and 3 (bimodal)\n"
      ],
      "metadata": {
        "id": "9RFUZDlMC480"
      }
    },
    {
      "cell_type": "markdown",
      "source": [
        "**2.Write a Python program to compute the variance and standard deviation of a dataset.**"
      ],
      "metadata": {
        "id": "I48Mjz46EJUN"
      }
    },
    {
      "cell_type": "code",
      "source": [
        "# Sample dataset\n",
        "data = [10, 12, 23, 23, 16, 23, 21, 16]\n",
        "\n",
        "# Step 1: Calculate the mean\n",
        "mean = sum(data) / len(data)\n",
        "\n",
        "# Step 2: Calculate variance\n",
        "squared_diff = [(x - mean) ** 2 for x in data]\n",
        "variance = sum(squared_diff) / len(data)  # Population variance\n",
        "\n",
        "# Step 3: Calculate standard deviation\n",
        "std_deviation = variance ** 0.5\n",
        "\n",
        "# Output\n",
        "print(\"Mean:\", mean)\n",
        "print(\"Variance:\", variance)\n",
        "print(\"Standard Deviation:\", std_deviation)\n"
      ],
      "metadata": {
        "id": "lrWzQ9kcxg39",
        "colab": {
          "base_uri": "https://localhost:8080/"
        },
        "outputId": "abca017b-477e-4e6e-8744-d4df42cc8cc3"
      },
      "execution_count": 1,
      "outputs": [
        {
          "output_type": "stream",
          "name": "stdout",
          "text": [
            "Mean: 18.0\n",
            "Variance: 24.0\n",
            "Standard Deviation: 4.898979485566356\n"
          ]
        }
      ]
    },
    {
      "cell_type": "markdown",
      "source": [
        "**3.Create a dataset and classify it into nominal, ordinal, interval, and ratio types**\n",
        "- Understanding Data Types: Nominal, Ordinal, Interval, and Ratio\n",
        "Data can be broadly classified into different types based on their characteristics and the level of measurement. Understanding these types is crucial for choosing appropriate statistical analyses and interpreting results correctly. Here, we'll explore four main levels of measurement: Nominal, Ordinal, Interval, and Ratio, and provide a sample dataset to illustrate each.\n",
        "\n",
        "Dataset Example: Employee Satisfaction Survey\n",
        "Let's consider a hypothetical dataset from an Employee Satisfaction Survey at \"InnovateCorp\".\n",
        "\n",
        "- Classification of Data Types\n",
        "Let's classify the variables from our dataset based on their measurement level:\n",
        "\n",
        "1. Nominal Data\n",
        "Nominal data are used for labeling variables, without any quantitative value. They are qualitative and cannot be ordered or measured. Think of them as categories.\n",
        "\n",
        "Characteristics:\n",
        "\n",
        "Categories only.\n",
        "\n",
        "No inherent order.\n",
        "\n",
        "Cannot perform mathematical operations (addition, subtraction, etc.).\n",
        "\n",
        "Examples from Dataset:\n",
        "\n",
        "Department: (Sales, Marketing, HR, IT) - These are distinct categories with no natural ordering.\n",
        "\n",
        "Preferred Communication: (Email, Slack, Meetings) - Again, these are labels, not ranked.\n",
        "\n",
        "2. Ordinal Data\n",
        "Ordinal data have a natural ordering or ranking, but the differences between categories are not meaningful or cannot be determined. The intervals between values are not equal.\n",
        "\n",
        "Characteristics:\n",
        "\n",
        "Categories with a meaningful order.\n",
        "\n",
        "Differences between ranks are not uniform or quantifiable.\n",
        "\n",
        "Examples from Dataset:\n",
        "\n",
        "Job Satisfaction: (Very Dissatisfied, Dissatisfied, Neutral, Satisfied, Very Satisfied) - There's a clear order of satisfaction levels, but the \"distance\" between \"Dissatisfied\" and \"Neutral\" might not be the same as between \"Satisfied\" and \"Very Satisfied.\"\n",
        "\n",
        "3. Interval Data\n",
        "Interval data have ordered units with meaningful differences between them. However, interval data lack a true zero point, meaning that a value of zero does not indicate the absence of the characteristic being measured. Therefore, ratios are not meaningful.\n",
        "\n",
        "Characteristics:\n",
        "\n",
        "Ordered categories.\n",
        "\n",
        "Equal intervals between values.\n",
        "\n",
        "No true zero point.\n",
        "\n",
        "Can perform addition and subtraction, but not multiplication or division meaningfully.\n",
        "\n",
        "Examples from Dataset:\n",
        "\n",
        "Feedback Score (1-100): While a score of 0 could be assigned, it doesn't mean \"no feedback\" or \"absence of performance.\" The difference between a score of 70 and 80 is the same as between 80 and 90, but a score of 80 is not \"twice as good\" as a score of 40 in an absolute sense.\n",
        "\n",
        "4. Ratio Data\n",
        "Ratio data have all the properties of interval data, but they also have a true zero point. This true zero point means that zero indicates the complete absence of the quantity being measured. As a result, ratios are meaningful, and all mathematical operations (addition, subtraction, multiplication, division) can be performed.\n",
        "\n",
        "Characteristics:\n",
        "\n",
        "Ordered categories.\n",
        "\n",
        "Equal intervals between values.\n",
        "\n",
        "True zero point.\n",
        "\n",
        "All mathematical operations are meaningful.\n",
        "\n",
        "Examples from Dataset:\n",
        "\n",
        "Years at Company: Zero years at the company means no time spent at the company. Someone with 10 years has been there twice as long as someone with 5 years.\n",
        "\n",
        "Number of Training Hours: Zero training hours means no training was received. 40 hours is twice as much training as 20 hours.\n",
        "\n",
        "Age: Zero age means the absence of age (birth). A person aged 50 is twice as old as a person aged 25.\n",
        "\n",
        "This classification helps in determining which statistical methods are appropriate for analyzing your data, ensuring valid and reliable conclusions."
      ],
      "metadata": {
        "id": "9BoJ1NOlEZWf"
      }
    },
    {
      "cell_type": "markdown",
      "source": [
        "**4.Implement sampling techniques like random sampling and stratified sampling.**\n"
      ],
      "metadata": {
        "id": "mb0aLa5mEzrc"
      }
    },
    {
      "cell_type": "code",
      "source": [
        "import pandas as pd\n",
        "\n",
        "# Sample dataset\n",
        "data = {\n",
        "    'Name': ['Aarti', 'Rahul', 'Simran', 'Manoj', 'Priya', 'Ankit', 'Neha', 'Vikram', 'Swati', 'Ravi'],\n",
        "    'Gender': ['F', 'M', 'F', 'M', 'F', 'M', 'F', 'M', 'F', 'M'],\n",
        "    'Education': ['Graduate', 'Graduate', 'Postgraduate', 'High School', 'High School', 'Graduate', 'Postgraduate', 'High School', 'Graduate', 'Postgraduate']\n",
        "}\n",
        "\n",
        "df = pd.DataFrame(data)\n",
        "\n",
        "# ✅ Random Sampling: select 4 random rows\n",
        "random_sample = df.sample(n=4, random_state=42)\n",
        "\n",
        "print(\"🔹 Random Sample:\\n\", random_sample)\n"
      ],
      "metadata": {
        "colab": {
          "base_uri": "https://localhost:8080/"
        },
        "id": "62Ns9pnZERQx",
        "outputId": "606041fd-cf89-41ef-fc57-6b2e21f06d19"
      },
      "execution_count": 2,
      "outputs": [
        {
          "output_type": "stream",
          "name": "stdout",
          "text": [
            "🔹 Random Sample:\n",
            "     Name Gender Education\n",
            "8  Swati      F  Graduate\n",
            "1  Rahul      M  Graduate\n",
            "5  Ankit      M  Graduate\n",
            "0  Aarti      F  Graduate\n"
          ]
        }
      ]
    },
    {
      "cell_type": "code",
      "source": [
        "from sklearn.model_selection import train_test_split\n",
        "\n",
        "# Stratify by 'Gender'\n",
        "stratified_sample, _ = train_test_split(df, test_size=0.6, stratify=df['Gender'], random_state=42)\n",
        "\n",
        "print(\"🔹 Stratified Sample by Gender:\\n\", stratified_sample)\n"
      ],
      "metadata": {
        "colab": {
          "base_uri": "https://localhost:8080/"
        },
        "id": "W0wr7Jy2FAXY",
        "outputId": "09b3dc21-bef8-493f-ab70-0ee03f3e7465"
      },
      "execution_count": 3,
      "outputs": [
        {
          "output_type": "stream",
          "name": "stdout",
          "text": [
            "🔹 Stratified Sample by Gender:\n",
            "      Name Gender     Education\n",
            "8   Swati      F      Graduate\n",
            "2  Simran      F  Postgraduate\n",
            "3   Manoj      M   High School\n",
            "7  Vikram      M   High School\n"
          ]
        }
      ]
    },
    {
      "cell_type": "code",
      "source": [
        "# Stratify by Education level\n",
        "stratified_by_education, _ = train_test_split(df, test_size=0.6, stratify=df['Education'], random_state=42)\n",
        "\n",
        "print(\"🔹 Stratified Sample by Education:\\n\", stratified_by_education)\n"
      ],
      "metadata": {
        "colab": {
          "base_uri": "https://localhost:8080/"
        },
        "id": "DwxQQSgUFCmQ",
        "outputId": "f18579e0-03ed-41fc-fbff-6ffc0245c111"
      },
      "execution_count": 4,
      "outputs": [
        {
          "output_type": "stream",
          "name": "stdout",
          "text": [
            "🔹 Stratified Sample by Education:\n",
            "     Name Gender     Education\n",
            "6   Neha      F  Postgraduate\n",
            "1  Rahul      M      Graduate\n",
            "8  Swati      F      Graduate\n",
            "3  Manoj      M   High School\n"
          ]
        }
      ]
    },
    {
      "cell_type": "markdown",
      "source": [
        "**5.Write a Python function to calculate the range of a dataset.**"
      ],
      "metadata": {
        "id": "81nGWC_vFG9f"
      }
    },
    {
      "cell_type": "code",
      "source": [
        "def calculate_range(data):\n",
        "    if not data:\n",
        "        return None  # Handle empty list\n",
        "    return max(data) - min(data)\n",
        "\n",
        "# Example usage\n",
        "dataset = [12, 7, 22, 5, 18, 30, 10]\n",
        "range_value = calculate_range(dataset)\n",
        "\n",
        "print(\"Range of the dataset:\", range_value)\n"
      ],
      "metadata": {
        "colab": {
          "base_uri": "https://localhost:8080/"
        },
        "id": "LGfhCL71FF9D",
        "outputId": "3bb9dcac-29c7-4c56-96c4-e657be6eda8e"
      },
      "execution_count": 5,
      "outputs": [
        {
          "output_type": "stream",
          "name": "stdout",
          "text": [
            "Range of the dataset: 25\n"
          ]
        }
      ]
    },
    {
      "cell_type": "markdown",
      "source": [
        "**6.Create a dataset and plot its histogram to visualize skewness.**"
      ],
      "metadata": {
        "id": "e9oZLx6BFTH3"
      }
    },
    {
      "cell_type": "code",
      "source": [
        "import numpy as np\n",
        "import seaborn as sns\n",
        "import matplotlib.pyplot as plt\n",
        "\n",
        "# Create a positively skewed dataset using exponential distribution\n",
        "data = np.random.exponential(scale=2.0, size=1000)\n",
        "\n",
        "# Plot histogram with KDE (Kernel Density Estimation)\n",
        "plt.figure(figsize=(8, 5))\n",
        "sns.histplot(data, bins=30, kde=True, color='skyblue')\n",
        "plt.title(\"Histogram of Positively Skewed Data\")\n",
        "plt.xlabel(\"Value\")\n",
        "plt.ylabel(\"Frequency\")\n",
        "plt.grid(True)\n",
        "plt.show()\n"
      ],
      "metadata": {
        "colab": {
          "base_uri": "https://localhost:8080/",
          "height": 487
        },
        "id": "zJF-WgteFSSh",
        "outputId": "6212a1cd-7e6c-4ffd-e05a-ee13e0dbe837"
      },
      "execution_count": 6,
      "outputs": [
        {
          "output_type": "display_data",
          "data": {
            "text/plain": [
              "<Figure size 800x500 with 1 Axes>"
            ],
            "image/png": "[encoded data removed]"
          },
          "metadata": {}
        }
      ]
    },
    {
      "cell_type": "code",
      "source": [
        "data = -np.random.exponential(scale=2.0, size=1000)\n"
      ],
      "metadata": {
        "id": "1wYBKptZFcNG"
      },
      "execution_count": 8,
      "outputs": []
    },
    {
      "cell_type": "code",
      "source": [
        "data = np.random.normal(loc=0, scale=1, size=1000)\n"
      ],
      "metadata": {
        "id": "kL6ASSXkFexX"
      },
      "execution_count": 9,
      "outputs": []
    },
    {
      "cell_type": "markdown",
      "source": [
        "**7.Calculate skewness and kurtosis of a dataset using Python libraries.**"
      ],
      "metadata": {
        "id": "a86bemH8FiJP"
      }
    },
    {
      "cell_type": "code",
      "source": [
        "import numpy as np\n",
        "from scipy.stats import skew, kurtosis\n",
        "\n",
        "# Sample dataset (positively skewed)\n",
        "data = np.random.exponential(scale=2.0, size=1000)\n",
        "\n",
        "# Calculate skewness and kurtosis\n",
        "data_skewness = skew(data)\n",
        "data_kurtosis = kurtosis(data)  # Excess kurtosis (normal dist = 0)\n",
        "\n",
        "print(\"Skewness:\", data_skewness)\n",
        "print(\"Excess Kurtosis:\", data_kurtosis)\n"
      ],
      "metadata": {
        "colab": {
          "base_uri": "https://localhost:8080/"
        },
        "id": "c3nbiuPgFg39",
        "outputId": "4a8b6da4-3324-4290-97f2-8b5ce859e7e6"
      },
      "execution_count": 10,
      "outputs": [
        {
          "output_type": "stream",
          "name": "stdout",
          "text": [
            "Skewness: 1.949194636586369\n",
            "Excess Kurtosis: 5.518986213074449\n"
          ]
        }
      ]
    },
    {
      "cell_type": "markdown",
      "source": [
        "**8.Generate a dataset and demonstrate positive and negative skewness.**"
      ],
      "metadata": {
        "id": "DFZlkfnuFsrh"
      }
    },
    {
      "cell_type": "code",
      "source": [
        "import numpy as np\n",
        "import seaborn as sns\n",
        "import matplotlib.pyplot as plt\n",
        "from scipy.stats import skew\n",
        "\n",
        "# Create datasets\n",
        "positive_skew = np.random.exponential(scale=2.0, size=1000)   # Right-skewed\n",
        "negative_skew = -np.random.exponential(scale=2.0, size=1000)  # Left-skewed\n",
        "\n",
        "# Calculate skewness\n",
        "pos_skewness = skew(positive_skew)\n",
        "neg_skewness = skew(negative_skew)\n",
        "\n",
        "# Plot histograms\n",
        "fig, axes = plt.subplots(1, 2, figsize=(14, 5))\n",
        "\n",
        "# Positive skew\n",
        "sns.histplot(positive_skew, bins=30, kde=True, ax=axes[0], color='skyblue')\n",
        "axes[0].set_title(f'Positive Skew (Skewness = {pos_skewness:.2f})')\n",
        "axes[0].set_xlabel(\"Value\")\n",
        "axes[0].set_ylabel(\"Frequency\")\n",
        "\n",
        "# Negative skew\n",
        "sns.histplot(negative_skew, bins=30, kde=True, ax=axes[1], color='salmon')\n",
        "axes[1].set_title(f'Negative Skew (Skewness = {neg_skewness:.2f})')\n",
        "axes[1].set_xlabel(\"Value\")\n",
        "axes[1].set_ylabel(\"Frequency\")\n",
        "\n",
        "plt.tight_layout()\n",
        "plt.show()\n"
      ],
      "metadata": {
        "colab": {
          "base_uri": "https://localhost:8080/",
          "height": 481
        },
        "id": "CousVnEZFr0M",
        "outputId": "ef931603-defa-4f77-ad70-99a0c432e36d"
      },
      "execution_count": 11,
      "outputs": [
        {
          "output_type": "display_data",
          "data": {
            "text/plain": [
              "<Figure size 1400x500 with 2 Axes>"
            ],
            "image/png": "[encoded data removed]"
          },
          "metadata": {}
        }
      ]
    },
    {
      "cell_type": "markdown",
      "source": [
        "**9.Write a Python script to calculate covariance between two datasets.**"
      ],
      "metadata": {
        "id": "85m_88ZJF3nY"
      }
    },
    {
      "cell_type": "code",
      "source": [
        "def calculate_covariance(X, Y):\n",
        "    if len(X) != len(Y):\n",
        "        raise ValueError(\"Datasets must have the same length\")\n",
        "\n",
        "    n = len(X)\n",
        "    mean_X = sum(X) / n\n",
        "    mean_Y = sum(Y) / n\n",
        "\n",
        "    # Calculate covariance\n",
        "    covariance = sum((X[i] - mean_X) * (Y[i] - mean_Y) for i in range(n)) / n\n",
        "    return covariance\n",
        "\n",
        "# Example datasets\n",
        "X = [2, 4, 6, 8, 10]\n",
        "Y = [1, 3, 5, 7, 9]\n",
        "\n",
        "# Calculate and display covariance\n",
        "cov = calculate_covariance(X, Y)\n",
        "print(\"Covariance:\", cov)\n"
      ],
      "metadata": {
        "colab": {
          "base_uri": "https://localhost:8080/"
        },
        "id": "PcFEGZvBF2za",
        "outputId": "ebf9358b-c5ec-4e2e-984e-777ef8815a0a"
      },
      "execution_count": 12,
      "outputs": [
        {
          "output_type": "stream",
          "name": "stdout",
          "text": [
            "Covariance: 8.0\n"
          ]
        }
      ]
    },
    {
      "cell_type": "markdown",
      "source": [
        "**10.Write a Python script to calculate the correlation coefficient between two datasets.**"
      ],
      "metadata": {
        "id": "EH0tSxhQGDaD"
      }
    },
    {
      "cell_type": "code",
      "source": [
        "def calculate_correlation(X, Y):\n",
        "    if len(X) != len(Y):\n",
        "        raise ValueError(\"Datasets must be the same length\")\n",
        "\n",
        "    n = len(X)\n",
        "    mean_X = sum(X) / n\n",
        "    mean_Y = sum(Y) / n\n",
        "\n",
        "    # Numerator: sum of (xi - mean_X) * (yi - mean_Y)\n",
        "    numerator = sum((X[i] - mean_X) * (Y[i] - mean_Y) for i in range(n))\n",
        "\n",
        "    # Denominator: sqrt of product of sum of squares\n",
        "    denominator = (\n",
        "        (sum((X[i] - mean_X) ** 2 for i in range(n)) * sum((Y[i] - mean_Y) ** 2 for i in range(n)))\n",
        "    ) ** 0.5\n",
        "\n",
        "    if denominator == 0:\n",
        "        return 0\n",
        "\n",
        "    return numerator / denominator\n",
        "\n",
        "# Example datasets\n",
        "X = [10, 20, 30, 40, 50]\n",
        "Y = [15, 25, 35, 45, 60]\n",
        "\n",
        "correlation = calculate_correlation(X, Y)\n",
        "print(\"Correlation coefficient (manual):\", correlation)\n"
      ],
      "metadata": {
        "colab": {
          "base_uri": "https://localhost:8080/"
        },
        "id": "jkHJp5D5GCcj",
        "outputId": "898ddc80-cc77-4b87-b4f1-35056a2475b0"
      },
      "execution_count": 13,
      "outputs": [
        {
          "output_type": "stream",
          "name": "stdout",
          "text": [
            "Correlation coefficient (manual): 0.9958932064677039\n"
          ]
        }
      ]
    },
    {
      "cell_type": "markdown",
      "source": [
        "**11.Create a scatter plot to visualize the relationship between two variables.**"
      ],
      "metadata": {
        "id": "nbordrO5GOXZ"
      }
    },
    {
      "cell_type": "code",
      "source": [
        "import matplotlib.pyplot as plt\n",
        "import seaborn as sns\n",
        "import numpy as np\n",
        "\n",
        "# Sample data\n",
        "X = np.array([10, 20, 30, 40, 50, 60, 70])\n",
        "Y = np.array([15, 24, 36, 45, 58, 65, 78])\n",
        "\n",
        "# Create a scatter plot using Seaborn\n",
        "plt.figure(figsize=(8, 5))\n",
        "sns.scatterplot(x=X, y=Y, color='royalblue', s=80)\n",
        "\n",
        "# Add regression line for trend (optional)\n",
        "sns.regplot(x=X, y=Y, scatter=False, color='red')\n",
        "\n",
        "# Labels and title\n",
        "plt.title(\"Scatter Plot: Relationship Between X and Y\")\n",
        "plt.xlabel(\"Variable X\")\n",
        "plt.ylabel(\"Variable Y\")\n",
        "plt.grid(True)\n",
        "plt.tight_layout()\n",
        "\n",
        "# Show the plot\n",
        "plt.show()\n"
      ],
      "metadata": {
        "colab": {
          "base_uri": "https://localhost:8080/",
          "height": 507
        },
        "id": "Yl_dOXudGNX3",
        "outputId": "ec9a1215-8dfd-4cad-b5f6-e8cb2f1976dc"
      },
      "execution_count": 14,
      "outputs": [
        {
          "output_type": "display_data",
          "data": {
            "text/plain": [
              "<Figure size 800x500 with 1 Axes>"
            ],
            "image/png": "[encoded data removed]"
          },
          "metadata": {}
        }
      ]
    },
    {
      "cell_type": "markdown",
      "source": [
        "**12.Implement and compare simple random sampling and systematic sampling.**"
      ],
      "metadata": {
        "id": "aotX_L4xGXWI"
      }
    },
    {
      "cell_type": "code",
      "source": [
        "import pandas as pd\n",
        "\n",
        "# Sample dataset with 20 records\n",
        "data = {'ID': range(1, 21), 'Score': [56, 61, 67, 70, 74, 77, 79, 82, 85, 88,\n",
        "                                      90, 91, 93, 95, 97, 98, 99, 100, 100, 100]}\n",
        "df = pd.DataFrame(data)\n",
        "print(\"Original Dataset:\\n\", df)\n"
      ],
      "metadata": {
        "colab": {
          "base_uri": "https://localhost:8080/"
        },
        "id": "m9F0jqg5GWfO",
        "outputId": "f1ab6d06-ac18-4a0e-d6fd-6caf7e5ed3c5"
      },
      "execution_count": 15,
      "outputs": [
        {
          "output_type": "stream",
          "name": "stdout",
          "text": [
            "Original Dataset:\n",
            "     ID  Score\n",
            "0    1     56\n",
            "1    2     61\n",
            "2    3     67\n",
            "3    4     70\n",
            "4    5     74\n",
            "5    6     77\n",
            "6    7     79\n",
            "7    8     82\n",
            "8    9     85\n",
            "9   10     88\n",
            "10  11     90\n",
            "11  12     91\n",
            "12  13     93\n",
            "13  14     95\n",
            "14  15     97\n",
            "15  16     98\n",
            "16  17     99\n",
            "17  18    100\n",
            "18  19    100\n",
            "19  20    100\n"
          ]
        }
      ]
    },
    {
      "cell_type": "code",
      "source": [
        "# Simple Random Sampling: randomly select 5 samples\n",
        "random_sample = df.sample(n=5, random_state=42)\n",
        "print(\"\\nSimple Random Sample:\\n\", random_sample)\n"
      ],
      "metadata": {
        "colab": {
          "base_uri": "https://localhost:8080/"
        },
        "id": "2QSI1LJtGj2S",
        "outputId": "32aaa979-e7e3-48e3-c991-4e7162ed5357"
      },
      "execution_count": 16,
      "outputs": [
        {
          "output_type": "stream",
          "name": "stdout",
          "text": [
            "\n",
            "Simple Random Sample:\n",
            "     ID  Score\n",
            "0    1     56\n",
            "17  18    100\n",
            "15  16     98\n",
            "1    2     61\n",
            "8    9     85\n"
          ]
        }
      ]
    },
    {
      "cell_type": "code",
      "source": [
        "import numpy as np\n",
        "\n",
        "def systematic_sampling(df, sample_size):\n",
        "    n = len(df)\n",
        "    k = n // sample_size  # sampling interval\n",
        "    start = np.random.randint(0, k)\n",
        "    indices = list(range(start, n, k))[:sample_size]\n",
        "    return df.iloc[indices]\n",
        "\n",
        "# Systematic Sampling: select 5 records\n",
        "systematic_sample = systematic_sampling(df, sample_size=5)\n",
        "print(\"\\nSystematic Sample:\\n\", systematic_sample)\n"
      ],
      "metadata": {
        "colab": {
          "base_uri": "https://localhost:8080/"
        },
        "id": "wDnnlX1oGmgx",
        "outputId": "82fa0077-7cd7-4838-e71a-c44c551556af"
      },
      "execution_count": 17,
      "outputs": [
        {
          "output_type": "stream",
          "name": "stdout",
          "text": [
            "\n",
            "Systematic Sample:\n",
            "     ID  Score\n",
            "2    3     67\n",
            "6    7     79\n",
            "10  11     90\n",
            "14  15     97\n",
            "18  19    100\n"
          ]
        }
      ]
    },
    {
      "cell_type": "markdown",
      "source": [
        "**13.Calculate the mean, median, and mode of grouped data**"
      ],
      "metadata": {
        "id": "J95VF20CGqeO"
      }
    },
    {
      "cell_type": "code",
      "source": [
        "import pandas as pd\n",
        "\n",
        "# Grouped data: Class Intervals and Frequencies\n",
        "classes = ['0-10', '10-20', '20-30', '30-40', '40-50']\n",
        "frequency = [5, 8, 15, 16, 6]\n",
        "\n",
        "# Calculate class midpoints\n",
        "midpoints = []\n",
        "for c in classes:\n",
        "    lower, upper = map(int, c.split('-'))\n",
        "    midpoints.append((lower + upper) / 2)\n",
        "\n",
        "# Create DataFrame\n",
        "df = pd.DataFrame({\n",
        "    'Class': classes,\n",
        "    'Frequency': frequency,\n",
        "    'Midpoint': midpoints\n",
        "})\n",
        "\n",
        "# Total frequency\n",
        "N = sum(frequency)\n",
        "\n",
        "# 1. Mean of Grouped Data\n",
        "df['f * x'] = df['Frequency'] * df['Midpoint']\n",
        "mean = df['f * x'].sum() / N\n",
        "\n",
        "# 2. Median of Grouped Data\n",
        "# Step 1: Cumulative frequency\n",
        "df['CumulativeFreq'] = df['Frequency'].cumsum()\n",
        "\n",
        "# Step 2: Find the median class\n",
        "median_position = N / 2\n",
        "for i, cum_freq in enumerate(df['CumulativeFreq']):\n",
        "    if cum_freq >= median_position:\n",
        "        median_class_index = i\n",
        "        break\n",
        "\n",
        "L = int(df['Class'][median_class_index].split('-')[0])   # Lower boundary of median class\n",
        "F = df['Frequency'][median_class_index]                   # Frequency of median class\n",
        "CF = df['CumulativeFreq'][median_class_index - 1] if median_class_index > 0 else 0\n",
        "h = 10                                                    # Class width (assumed equal)\n",
        "\n",
        "# Median formula\n",
        "median = L + ((median_position - CF) / F) * h\n",
        "\n",
        "# 3. Mode of Grouped Data\n",
        "modal_index = df['Frequency'].idxmax()\n",
        "L_mode = int(df['Class'][modal_index].split('-')[0])\n",
        "f1 = df['Frequency'][modal_index]\n",
        "f0 = df['Frequency'][modal_index - 1] if modal_index > 0 else 0\n",
        "f2 = df['Frequency'][modal_index + 1] if modal_index < len(df) - 1 else 0\n",
        "\n",
        "# Mode formula\n",
        "mode = L_mode + ((f1 - f0) / ((2 * f1) - f0 - f2)) * h\n",
        "\n",
        "# 🖨️ Display Results\n",
        "print(\"Mean:\", round(mean, 2))\n",
        "print(\"Median:\", round(median, 2))\n",
        "print(\"Mode:\", round(mode, 2))\n",
        "\n"
      ],
      "metadata": {
        "colab": {
          "base_uri": "https://localhost:8080/"
        },
        "id": "zCCuAHFwGpFV",
        "outputId": "6f42d980-2ad5-4502-876e-a07a3aa34492"
      },
      "execution_count": 20,
      "outputs": [
        {
          "output_type": "stream",
          "name": "stdout",
          "text": [
            "Mean: 27.0\n",
            "Median: 28.0\n",
            "Mode: 30.91\n"
          ]
        }
      ]
    },
    {
      "cell_type": "markdown",
      "source": [
        "**14.Simulate data using Python and calculate its central tendency and dispersion.**"
      ],
      "metadata": {
        "id": "bHWhmaRkG-Ql"
      }
    },
    {
      "cell_type": "code",
      "source": [
        "import numpy as np\n",
        "import pandas as pd\n",
        "from scipy import stats\n",
        "\n",
        "# Step 1: Simulate data (e.g., normal distribution)\n",
        "np.random.seed(42)  # for reproducibility\n",
        "data = np.random.normal(loc=50, scale=10, size=100)  # mean=50, std=10, n=100\n",
        "\n",
        "# Step 2: Convert to Pandas Series\n",
        "data_series = pd.Series(data)\n",
        "\n",
        "# Step 3: Central Tendency\n",
        "mean = data_series.mean()\n",
        "median = data_series.median()\n",
        "mode = data_series.mode().iloc[0]  # first mode if multiple\n",
        "\n",
        "# Step 4: Dispersion\n",
        "data_range = data_series.max() - data_series.min()\n",
        "variance = data_series.var(ddof=0)  # population variance\n",
        "std_dev = data_series.std(ddof=0)   # population standard deviation\n",
        "\n",
        "# Step 5: Print results\n",
        "print(\"📊 Central Tendency Measures\")\n",
        "print(f\"Mean   : {mean:.2f}\")\n",
        "print(f\"Median : {median:.2f}\")\n",
        "print(f\"Mode   : {mode:.2f}\")\n",
        "\n",
        "print(\"\\n📈 Dispersion Measures\")\n",
        "print(f\"Range     : {data_range:.2f}\")\n",
        "print(f\"Variance  : {variance:.2f}\")\n",
        "print(f\"Std Dev   : {std_dev:.2f}\")\n"
      ],
      "metadata": {
        "colab": {
          "base_uri": "https://localhost:8080/"
        },
        "id": "aTvf4wEdGzP2",
        "outputId": "46d576d3-0f43-4989-b127-931ee9fd9b2e"
      },
      "execution_count": 21,
      "outputs": [
        {
          "output_type": "stream",
          "name": "stdout",
          "text": [
            "📊 Central Tendency Measures\n",
            "Mean   : 48.96\n",
            "Median : 48.73\n",
            "Mode   : 23.80\n",
            "\n",
            "📈 Dispersion Measures\n",
            "Range     : 44.72\n",
            "Variance  : 81.65\n",
            "Std Dev   : 9.04\n"
          ]
        }
      ]
    },
    {
      "cell_type": "markdown",
      "source": [
        "**15.Use NumPy or pandas to summarize a dataset’s descriptive statistics.**"
      ],
      "metadata": {
        "id": "FRLNYejjHNdm"
      }
    },
    {
      "cell_type": "code",
      "source": [
        "import numpy as np\n",
        "import pandas as pd\n",
        "from scipy import stats\n",
        "\n",
        "# Step 1: Simulate a dataset using NumPy\n",
        "np.random.seed(0)\n",
        "data = np.random.normal(loc=100, scale=15, size=200)  # mean=100, std=15\n",
        "\n",
        "# Step 2: Convert to pandas Series\n",
        "series = pd.Series(data)\n",
        "\n",
        "# Step 3: Basic Descriptive Statistics\n",
        "print(\"📊 Descriptive Statistics (Manual Calculation):\")\n",
        "print(f\"Mean       : {series.mean():.2f}\")\n",
        "print(f\"Median     : {series.median():.2f}\")\n",
        "print(f\"Mode       : {series.mode()[0]:.2f}\")\n",
        "print(f\"Min        : {series.min():.2f}\")\n",
        "print(f\"Max        : {series.max():.2f}\")\n",
        "print(f\"Range      : {(series.max() - series.min()):.2f}\")\n",
        "print(f\"Variance   : {series.var(ddof=0):.2f}\")\n",
        "print(f\"Std Dev    : {series.std(ddof=0):.2f}\")\n",
        "print(f\"Skewness   : {series.skew():.2f}\")\n",
        "print(f\"Kurtosis   : {series.kurt():.2f}\")\n",
        "print(f\"25th Pctl  : {series.quantile(0.25):.2f}\")\n",
        "print(f\"50th Pctl  : {series.quantile(0.50):.2f}\")\n",
        "print(f\"75th Pctl  : {series.quantile(0.75):.2f}\")\n"
      ],
      "metadata": {
        "colab": {
          "base_uri": "https://localhost:8080/"
        },
        "id": "GsMxlepjHJ1N",
        "outputId": "5f476ab0-d5ce-4e78-b1fb-cf2753c8da8a"
      },
      "execution_count": 22,
      "outputs": [
        {
          "output_type": "stream",
          "name": "stdout",
          "text": [
            "📊 Descriptive Statistics (Manual Calculation):\n",
            "Mean       : 101.06\n",
            "Median     : 100.81\n",
            "Mode       : 61.71\n",
            "Min        : 61.71\n",
            "Max        : 135.75\n",
            "Range      : 74.04\n",
            "Variance   : 234.74\n",
            "Std Dev    : 15.32\n",
            "Skewness   : 0.11\n",
            "Kurtosis   : -0.58\n",
            "25th Pctl  : 89.41\n",
            "50th Pctl  : 100.81\n",
            "75th Pctl  : 112.12\n"
          ]
        }
      ]
    },
    {
      "cell_type": "markdown",
      "source": [
        "**16.Plot a boxplot to understand the spread and identify outliers**"
      ],
      "metadata": {
        "id": "SBnzUGAnHYhG"
      }
    },
    {
      "cell_type": "code",
      "source": [
        "import numpy as np\n",
        "import pandas as pd\n",
        "import seaborn as sns\n",
        "import matplotlib.pyplot as plt\n",
        "\n",
        "# Step 1: Simulate a dataset\n",
        "np.random.seed(0)\n",
        "data = np.random.normal(loc=100, scale=15, size=200)\n",
        "data = np.append(data, [180, 190])  # Add some outliers\n",
        "\n",
        "# Step 2: Convert to DataFrame\n",
        "df = pd.DataFrame({'Scores': data})\n",
        "\n",
        "# Step 3: Create Boxplot\n",
        "plt.figure(figsize=(8, 5))\n",
        "sns.boxplot(data=df, x='Scores', color='skyblue')\n",
        "\n",
        "# Add title and grid\n",
        "plt.title(\"Boxplot of Scores with Outliers\")\n",
        "plt.grid(True)\n",
        "plt.tight_layout()\n",
        "plt.show()\n"
      ],
      "metadata": {
        "colab": {
          "base_uri": "https://localhost:8080/",
          "height": 507
        },
        "id": "1MIQolIOHXys",
        "outputId": "3c50f862-3f2b-4bb3-9ad5-d3aadcffb2a1"
      },
      "execution_count": 23,
      "outputs": [
        {
          "output_type": "display_data",
          "data": {
            "text/plain": [
              "<Figure size 800x500 with 1 Axes>"
            ],
            "image/png": "[encoded data removed]"
          },
          "metadata": {}
        }
      ]
    },
    {
      "cell_type": "markdown",
      "source": [
        "**17.Calculate the interquartile range (IQR) of a dataset.**"
      ],
      "metadata": {
        "id": "nyyBaVH6HjrA"
      }
    },
    {
      "cell_type": "code",
      "source": [
        "import numpy as np\n",
        "import pandas as pd\n",
        "\n",
        "# Simulate dataset\n",
        "np.random.seed(42)\n",
        "data = np.random.normal(loc=100, scale=15, size=200)\n",
        "series = pd.Series(data)\n",
        "\n",
        "# Calculate Q1 and Q3\n",
        "Q1 = series.quantile(0.25)\n",
        "Q3 = series.quantile(0.75)\n",
        "\n",
        "# Calculate IQR\n",
        "IQR = Q3 - Q1\n",
        "\n",
        "# Print results\n",
        "print(f\"Q1 (25th percentile): {Q1:.2f}\")\n",
        "print(f\"Q3 (75th percentile): {Q3:.2f}\")\n",
        "print(f\"IQR (Interquartile Range): {IQR:.2f}\")\n"
      ],
      "metadata": {
        "colab": {
          "base_uri": "https://localhost:8080/"
        },
        "id": "8ZcV8H6oHiSH",
        "outputId": "c75d93e9-d31b-44bd-e88e-3421d7c23b51"
      },
      "execution_count": 24,
      "outputs": [
        {
          "output_type": "stream",
          "name": "stdout",
          "text": [
            "Q1 (25th percentile): 89.42\n",
            "Q3 (75th percentile): 107.51\n",
            "IQR (Interquartile Range): 18.09\n"
          ]
        }
      ]
    },
    {
      "cell_type": "markdown",
      "source": [
        "**18.Implement Z-score normalization and explain its significance.**"
      ],
      "metadata": {
        "id": "jD-oqF4ZHtnJ"
      }
    },
    {
      "cell_type": "code",
      "source": [
        "import numpy as np\n",
        "import pandas as pd\n",
        "\n",
        "# Step 1: Simulate data\n",
        "np.random.seed(0)\n",
        "data = np.random.normal(loc=50, scale=10, size=10)\n",
        "df = pd.DataFrame({'Original': data})\n",
        "\n",
        "# Step 2: Calculate mean and standard deviation\n",
        "mean = df['Original'].mean()\n",
        "std = df['Original'].std(ddof=0)\n",
        "\n",
        "# Step 3: Apply Z-score normalization\n",
        "df['Z-Score'] = (df['Original'] - mean) / std\n",
        "\n",
        "# Display the result\n",
        "print(df)\n"
      ],
      "metadata": {
        "colab": {
          "base_uri": "https://localhost:8080/"
        },
        "id": "K3ycLLsCHsfn",
        "outputId": "a33218cb-f0a0-4638-b88b-412f56879305"
      },
      "execution_count": 26,
      "outputs": [
        {
          "output_type": "stream",
          "name": "stdout",
          "text": [
            "    Original   Z-Score\n",
            "0  67.640523  1.060957\n",
            "1  54.001572 -0.349367\n",
            "2  59.787380  0.248909\n",
            "3  72.408932  1.554030\n",
            "4  68.675580  1.167986\n",
            "5  40.227221 -1.773692\n",
            "6  59.500884  0.219284\n",
            "7  48.486428 -0.919656\n",
            "8  48.967811 -0.869879\n",
            "9  54.105985 -0.338571\n"
          ]
        }
      ]
    },
    {
      "cell_type": "markdown",
      "source": [
        "**19.Compare two datasets using their standard deviations.**"
      ],
      "metadata": {
        "id": "OXn9ypVoH73N"
      }
    },
    {
      "cell_type": "code",
      "source": [
        "import numpy as np\n",
        "\n",
        "# Simulated datasets\n",
        "dataset_A = np.array([55, 60, 65, 70, 75])         # More tightly clustered\n",
        "dataset_B = np.array([30, 50, 70, 90, 110])        # More spread out\n",
        "\n",
        "# Calculate mean and standard deviation\n",
        "mean_A = np.mean(dataset_A)\n",
        "std_A = np.std(dataset_A)\n",
        "\n",
        "mean_B = np.mean(dataset_B)\n",
        "std_B = np.std(dataset_B)\n",
        "\n",
        "# Print results\n",
        "print(\"📊 Dataset A\")\n",
        "print(f\"Mean: {mean_A:.2f}, Standard Deviation: {std_A:.2f}\")\n",
        "\n",
        "print(\"\\n📊 Dataset B\")\n",
        "print(f\"Mean: {mean_B:.2f}, Standard Deviation: {std_B:.2f}\")\n"
      ],
      "metadata": {
        "colab": {
          "base_uri": "https://localhost:8080/"
        },
        "id": "MvTJ1ckrH5Zj",
        "outputId": "35f48ad9-fd61-436f-fe34-25473bcf8903"
      },
      "execution_count": 27,
      "outputs": [
        {
          "output_type": "stream",
          "name": "stdout",
          "text": [
            "📊 Dataset A\n",
            "Mean: 65.00, Standard Deviation: 7.07\n",
            "\n",
            "📊 Dataset B\n",
            "Mean: 70.00, Standard Deviation: 28.28\n"
          ]
        }
      ]
    },
    {
      "cell_type": "markdown",
      "source": [
        "**20.Write a Python program to visualize covariance using a heatmap.**"
      ],
      "metadata": {
        "id": "MDNwyBw-IJOV"
      }
    },
    {
      "cell_type": "code",
      "source": [
        "import numpy as np\n",
        "import pandas as pd\n",
        "import seaborn as sns\n",
        "import matplotlib.pyplot as plt\n",
        "\n",
        "# Step 1: Simulate a dataset with multiple variables\n",
        "np.random.seed(0)\n",
        "data = {\n",
        "    'Math_Score': np.random.normal(75, 10, 100),\n",
        "    'Science_Score': np.random.normal(70, 12, 100),\n",
        "    'English_Score': np.random.normal(65, 8, 100)\n",
        "}\n",
        "\n",
        "df = pd.DataFrame(data)\n",
        "\n",
        "# Step 2: Compute the covariance matrix\n",
        "cov_matrix = df.cov()\n",
        "\n",
        "# Step 3: Plot covariance heatmap\n",
        "plt.figure(figsize=(8, 6))\n",
        "sns.heatmap(cov_matrix, annot=True, cmap='coolwarm', fmt=\".2f\", linewidths=0.5)\n",
        "plt.title(\"📊 Covariance Matrix Heatmap\")\n",
        "plt.tight_layout()\n",
        "plt.show()\n"
      ],
      "metadata": {
        "colab": {
          "base_uri": "https://localhost:8080/",
          "height": 676
        },
        "id": "vXTqaoUIIE1b",
        "outputId": "af3d83f6-16d8-4c3e-8fab-2500f0f809e4"
      },
      "execution_count": 28,
      "outputs": [
        {
          "output_type": "stream",
          "name": "stderr",
          "text": [
            "/tmp/ipython-input-28-784158599.py:23: UserWarning: Glyph 128202 (\\N{BAR CHART}) missing from font(s) DejaVu Sans.\n",
            "  plt.tight_layout()\n",
            "/usr/local/lib/python3.11/dist-packages/IPython/core/pylabtools.py:151: UserWarning: Glyph 128202 (\\N{BAR CHART}) missing from font(s) DejaVu Sans.\n",
            "  fig.canvas.print_figure(bytes_io, **kw)\n"
          ]
        },
        {
          "output_type": "display_data",
          "data": {
            "text/plain": [
              "<Figure size 800x600 with 2 Axes>"
            ],
            "image/png": "[encoded data removed]"
          },
          "metadata": {}
        }
      ]
    },
    {
      "cell_type": "markdown",
      "source": [
        "**21.Use seaborn to create a correlation matrix for a dataset.**"
      ],
      "metadata": {
        "id": "qfI-ojxvIYdg"
      }
    },
    {
      "cell_type": "code",
      "source": [
        "import numpy as np\n",
        "import pandas as pd\n",
        "import seaborn as sns\n",
        "import matplotlib.pyplot as plt\n",
        "\n",
        "# Step 1: Simulate a dataset\n",
        "np.random.seed(1)\n",
        "data = {\n",
        "    'Math_Score': np.random.normal(75, 10, 100),\n",
        "    'Science_Score': np.random.normal(70, 12, 100),\n",
        "    'English_Score': np.random.normal(65, 8, 100),\n",
        "    'Attendance': np.random.normal(90, 5, 100)\n",
        "}\n",
        "\n",
        "df = pd.DataFrame(data)\n",
        "\n",
        "# Step 2: Compute correlation matrix\n",
        "corr_matrix = df.corr()\n",
        "\n",
        "# Step 3: Plot the heatmap\n",
        "plt.figure(figsize=(8, 6))\n",
        "sns.heatmap(corr_matrix, annot=True, cmap='coolwarm', fmt=\".2f\", linewidths=0.5, square=True)\n",
        "plt.title(\"🔗 Correlation Matrix Heatmap\", fontsize=14)\n",
        "plt.tight_layout()\n",
        "plt.show()\n"
      ],
      "metadata": {
        "colab": {
          "base_uri": "https://localhost:8080/",
          "height": 675
        },
        "id": "4jH5bGLcIWJM",
        "outputId": "0fb531f9-8087-4c37-fea5-b0e29534d6e1"
      },
      "execution_count": 29,
      "outputs": [
        {
          "output_type": "stream",
          "name": "stderr",
          "text": [
            "/tmp/ipython-input-29-2316037324.py:24: UserWarning: Glyph 128279 (\\N{LINK SYMBOL}) missing from font(s) DejaVu Sans.\n",
            "  plt.tight_layout()\n",
            "/usr/local/lib/python3.11/dist-packages/IPython/core/pylabtools.py:151: UserWarning: Glyph 128279 (\\N{LINK SYMBOL}) missing from font(s) DejaVu Sans.\n",
            "  fig.canvas.print_figure(bytes_io, **kw)\n"
          ]
        },
        {
          "output_type": "display_data",
          "data": {
            "text/plain": [
              "<Figure size 800x600 with 2 Axes>"
            ],
            "image/png": "[encoded data removed]"
          },
          "metadata": {}
        }
      ]
    },
    {
      "cell_type": "markdown",
      "source": [
        "**22.Generate a dataset and implement both variance and standard deviation computations.**"
      ],
      "metadata": {
        "id": "NAWjoo4hIpAE"
      }
    },
    {
      "cell_type": "code",
      "source": [
        "import numpy as np\n",
        "import pandas as pd\n",
        "\n",
        "# Step 1: Generate synthetic dataset (e.g., exam scores)\n",
        "np.random.seed(42)\n",
        "data = np.random.normal(loc=70, scale=10, size=15)  # mean=70, std=10, n=15\n",
        "series = pd.Series(data)\n",
        "\n",
        "# Step 2: Calculate Variance and Standard Deviation\n",
        "\n",
        "# ✅ Population calculations (ddof = 0)\n",
        "pop_variance = series.var(ddof=0)\n",
        "pop_std_dev = series.std(ddof=0)\n",
        "\n",
        "# ✅ Sample calculations (ddof = 1, default in Pandas)\n",
        "sample_variance = series.var()\n",
        "sample_std_dev = series.std()\n",
        "\n",
        "# Step 3: Print results\n",
        "print(\"🎲 Generated Dataset:\")\n",
        "print(np.round(data, 2))\n",
        "\n",
        "print(\"\\n📊 Population Statistics (Entire Data Considered):\")\n",
        "print(f\"Population Variance       : {pop_variance:.2f}\")\n",
        "print(f\"Population Std Deviation  : {pop_std_dev:.2f}\")\n",
        "\n",
        "print(\"\\n📊 Sample Statistics (Subset Estimate):\")\n",
        "print(f\"Sample Variance           : {sample_variance:.2f}\")\n",
        "print(f\"Sample Std Deviation      : {sample_std_dev:.2f}\")\n"
      ],
      "metadata": {
        "colab": {
          "base_uri": "https://localhost:8080/"
        },
        "id": "EX3dSOvSInH5",
        "outputId": "74d4ebf7-0597-4880-993b-9957effc3323"
      },
      "execution_count": 30,
      "outputs": [
        {
          "output_type": "stream",
          "name": "stdout",
          "text": [
            "🎲 Generated Dataset:\n",
            "[74.97 68.62 76.48 85.23 67.66 67.66 85.79 77.67 65.31 75.43 65.37 65.34\n",
            " 72.42 50.87 52.75]\n",
            "\n",
            "📊 Population Statistics (Entire Data Considered):\n",
            "Population Variance       : 92.25\n",
            "Population Std Deviation  : 9.60\n",
            "\n",
            "📊 Sample Statistics (Subset Estimate):\n",
            "Sample Variance           : 98.83\n",
            "Sample Std Deviation      : 9.94\n"
          ]
        }
      ]
    },
    {
      "cell_type": "markdown",
      "source": [
        "**23.Visualize skewness and kurtosis using Python libraries like matplotlib or seaborn.**"
      ],
      "metadata": {
        "id": "fbF6CgGXI7P8"
      }
    },
    {
      "cell_type": "code",
      "source": [
        "import numpy as np\n",
        "import pandas as pd\n",
        "import seaborn as sns\n",
        "import matplotlib.pyplot as plt\n",
        "from scipy.stats import skew, kurtosis\n",
        "\n",
        "# Step 1: Generate a dataset (right-skewed)\n",
        "np.random.seed(1)\n",
        "data = np.random.exponential(scale=2.0, size=1000)\n",
        "\n",
        "# Step 2: Calculate skewness and kurtosis\n",
        "data_skewness = skew(data)\n",
        "data_kurtosis = kurtosis(data)  # excess kurtosis\n",
        "\n",
        "# Step 3: Plot histogram and KDE\n",
        "plt.figure(figsize=(10, 6))\n",
        "sns.histplot(data, bins=30, kde=True, color='skyblue')\n",
        "\n",
        "# Step 4: Annotate skewness and kurtosis\n",
        "plt.title(\"Histogram with KDE\\nVisualizing Skewness and Kurtosis\", fontsize=14)\n",
        "plt.xlabel(\"Value\")\n",
        "plt.ylabel(\"Frequency\")\n",
        "plt.grid(True)\n",
        "\n",
        "# Display calculated values on the plot\n",
        "plt.text(x=max(data)*0.6, y=80,\n",
        "         s=f\"Skewness: {data_skewness:.2f}\\nKurtosis: {data_kurtosis:.2f}\",\n",
        "         fontsize=12, bbox=dict(facecolor='white', edgecolor='black'))\n",
        "\n",
        "plt.tight_layout()\n",
        "plt.show()\n"
      ],
      "metadata": {
        "colab": {
          "base_uri": "https://localhost:8080/",
          "height": 607
        },
        "id": "8itkEOJ0I6DJ",
        "outputId": "c3d6cc52-7afe-4d3e-e439-50c71f2dbfc3"
      },
      "execution_count": 31,
      "outputs": [
        {
          "output_type": "display_data",
          "data": {
            "text/plain": [
              "<Figure size 1000x600 with 1 Axes>"
            ],
            "image/png": "[encoded data removed]"
          },
          "metadata": {}
        }
      ]
    },
    {
      "cell_type": "markdown",
      "source": [
        "**24.Implement the Pearson and Spearman correlation coefficients for a dataset.**"
      ],
      "metadata": {
        "id": "lp8IqsqKJMCG"
      }
    },
    {
      "cell_type": "code",
      "source": [
        "import numpy as np\n",
        "import pandas as pd\n",
        "from scipy.stats import pearsonr, spearmanr\n",
        "\n",
        "# Step 1: Simulate data\n",
        "np.random.seed(0)\n",
        "x = np.random.normal(50, 10, 100)\n",
        "y = x * 1.5 + np.random.normal(0, 5, 100)  # Strong linear relationship\n",
        "z = np.log(x + 10) + np.random.normal(0, 0.5, 100)  # Monotonic but not linear\n",
        "\n",
        "# Create DataFrame\n",
        "df = pd.DataFrame({'X': x, 'Y': y, 'Z': z})\n",
        "\n",
        "# Step 2: Calculate Pearson and Spearman Correlation\n",
        "\n",
        "# Pearson (X vs Y)\n",
        "pearson_corr_xy, _ = pearsonr(df['X'], df['Y'])\n",
        "# Spearman (X vs Y)\n",
        "spearman_corr_xy, _ = spearmanr(df['X'], df['Y'])\n",
        "\n",
        "# Pearson (X vs Z)\n",
        "pearson_corr_xz, _ = pearsonr(df['X'], df['Z'])\n",
        "# Spearman (X vs Z)\n",
        "spearman_corr_xz, _ = spearmanr(df['X'], df['Z'])\n",
        "\n",
        "# Step 3: Display Results\n",
        "print(\"🔗 Correlation between X and Y (linear):\")\n",
        "print(f\" Pearson Correlation : {pearson_corr_xy:.4f}\")\n",
        "print(f\" Spearman Correlation: {spearman_corr_xy:.4f}\")\n",
        "\n",
        "print(\"\\n🔗 Correlation between X and Z (monotonic, non-linear):\")\n",
        "print(f\" Pearson Correlation : {pearson_corr_xz:.4f}\")\n",
        "print(f\" Spearman Correlation: {spearman_corr_xz:.4f}\")\n"
      ],
      "metadata": {
        "colab": {
          "base_uri": "https://localhost:8080/"
        },
        "id": "U1BeFdaMJJ8F",
        "outputId": "48c6ad66-4791-4a5e-fa87-eac30325f415"
      },
      "execution_count": 32,
      "outputs": [
        {
          "output_type": "stream",
          "name": "stdout",
          "text": [
            "🔗 Correlation between X and Y (linear):\n",
            " Pearson Correlation : 0.9503\n",
            " Spearman Correlation: 0.9350\n",
            "\n",
            "🔗 Correlation between X and Z (monotonic, non-linear):\n",
            " Pearson Correlation : 0.3995\n",
            " Spearman Correlation: 0.4198\n"
          ]
        }
      ]
    },
    {
      "cell_type": "code",
      "source": [],
      "metadata": {
        "id": "Xb1TW5bMJZNP"
      },
      "execution_count": null,
      "outputs": []
    }
  ]
}